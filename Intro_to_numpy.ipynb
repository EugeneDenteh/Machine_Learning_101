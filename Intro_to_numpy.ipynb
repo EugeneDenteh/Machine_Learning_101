{
 "cells": [
  {
   "cell_type": "markdown",
   "id": "dbf0ad33-ba71-4c32-a320-2ca7d7de0cac",
   "metadata": {},
   "source": [
    "# Intro to numpy\n",
    "NumPy (Numerical Python) is a foundational Python library for numerical computing. It provides efficient support for multi-dimensional arrays, an extensive collection of mathematical functions, and advanced capabilities like broadcasting. NumPy is a cornerstone of scientific computing in Python, enabling efficient data manipulation and mathematical operations. It seamlessly integrates with other data analysis and visualization libraries, making it a vital tool for various scientific and data analysis tasks."
   ]
  },
  {
   "cell_type": "code",
   "execution_count": 1,
   "id": "0ef6d92a",
   "metadata": {},
   "outputs": [],
   "source": [
    "import numpy as np"
   ]
  },
  {
   "cell_type": "markdown",
   "id": "4fb121ec",
   "metadata": {},
   "source": [
    "## Datatypes and attributes\n",
    "Numpys main datatype is ndarray which stands for ndimensional array"
   ]
  },
  {
   "cell_type": "code",
   "execution_count": 2,
   "id": "2a9aa3cd",
   "metadata": {},
   "outputs": [
    {
     "data": {
      "text/plain": [
       "array([1, 2, 3])"
      ]
     },
     "execution_count": 2,
     "metadata": {},
     "output_type": "execute_result"
    }
   ],
   "source": [
    "a1=np.array([1,2,3])\n",
    "a1"
   ]
  },
  {
   "cell_type": "code",
   "execution_count": 3,
   "id": "564a8934",
   "metadata": {},
   "outputs": [
    {
     "data": {
      "text/plain": [
       "numpy.ndarray"
      ]
     },
     "execution_count": 3,
     "metadata": {},
     "output_type": "execute_result"
    }
   ],
   "source": [
    "type(a1)"
   ]
  },
  {
   "cell_type": "code",
   "execution_count": 4,
   "id": "cbdd31da",
   "metadata": {},
   "outputs": [
    {
     "data": {
      "text/plain": [
       "(3,)"
      ]
     },
     "execution_count": 4,
     "metadata": {},
     "output_type": "execute_result"
    }
   ],
   "source": [
    "#this helps one to figure out the anatomy of a created matrix or vector. It provides the shape of the matrix.\n",
    "a1.shape"
   ]
  },
  {
   "cell_type": "code",
   "execution_count": 5,
   "id": "20b4cde9",
   "metadata": {},
   "outputs": [
    {
     "data": {
      "text/plain": [
       "1"
      ]
     },
     "execution_count": 5,
     "metadata": {},
     "output_type": "execute_result"
    }
   ],
   "source": [
    "#.ndim provides the dimensions of a matrix. It shows whether the matrix is 1dimensional, 2, 3 or any dimension.\n",
    "a1.ndim"
   ]
  },
  {
   "cell_type": "code",
   "execution_count": 6,
   "id": "bd54e5f1",
   "metadata": {},
   "outputs": [
    {
     "data": {
      "text/plain": [
       "dtype('int64')"
      ]
     },
     "execution_count": 6,
     "metadata": {},
     "output_type": "execute_result"
    }
   ],
   "source": [
    "#.dtype attribute helps to determine the datatypes within an array of numbers.If say an array contains 2 or more datatypes, then one will be automatically chosen and the rest converted to suit that one.\n",
    "a1.dtype"
   ]
  },
  {
   "cell_type": "code",
   "execution_count": 7,
   "id": "9104cb7c",
   "metadata": {},
   "outputs": [
    {
     "data": {
      "text/plain": [
       "3"
      ]
     },
     "execution_count": 7,
     "metadata": {},
     "output_type": "execute_result"
    }
   ],
   "source": [
    "#.size shows the number of elements in an array\n",
    "a1.size"
   ]
  },
  {
   "cell_type": "code",
   "execution_count": 8,
   "id": "5294c242",
   "metadata": {},
   "outputs": [],
   "source": [
    "#numpy.ones this returns a new array with a given shape and type filled with ones\n",
    "ones=np.ones((3,3))"
   ]
  },
  {
   "cell_type": "code",
   "execution_count": 9,
   "id": "e7e57c39",
   "metadata": {},
   "outputs": [],
   "source": [
    "zeros=np.zeros((3,3))"
   ]
  },
  {
   "cell_type": "code",
   "execution_count": 10,
   "id": "03c913d8",
   "metadata": {},
   "outputs": [
    {
     "data": {
      "text/plain": [
       "array([0, 2, 4, 6, 8])"
      ]
     },
     "execution_count": 10,
     "metadata": {},
     "output_type": "execute_result"
    }
   ],
   "source": [
    "#numpy.arange(start_value,stop_value,step_value) could be used to create an array with different consecutive numbers\n",
    "np.arange(0,10,2)"
   ]
  },
  {
   "cell_type": "code",
   "execution_count": 11,
   "id": "0bbcb636",
   "metadata": {},
   "outputs": [
    {
     "data": {
      "text/plain": [
       "array([[0, 2, 2, 8, 8],\n",
       "       [7, 2, 8, 1, 5],\n",
       "       [9, 3, 3, 6, 6]])"
      ]
     },
     "execution_count": 11,
     "metadata": {},
     "output_type": "execute_result"
    }
   ],
   "source": [
    "#numpy.random.randint(0,10, size=(3,5)). This creates a 3 by 5 matrix with random values ranging from 0-10 \n",
    "np.random.randint(0,10, size=(3,5))"
   ]
  },
  {
   "cell_type": "code",
   "execution_count": 12,
   "id": "53359548",
   "metadata": {
    "collapsed": true,
    "jupyter": {
     "outputs_hidden": true
    },
    "tags": []
   },
   "outputs": [
    {
     "data": {
      "text/plain": [
       "array([[0.07164474, 0.63728428, 0.27986469, 0.53325613, 0.60743253,\n",
       "        0.90730079, 0.06944177, 0.80451505, 0.19464559, 0.2931165 ,\n",
       "        0.82241898, 0.11174271, 0.59130651],\n",
       "       [0.73445355, 0.44738463, 0.93821716, 0.73490766, 0.58092829,\n",
       "        0.20292088, 0.04090493, 0.53584054, 0.10337789, 0.79103466,\n",
       "        0.48087473, 0.95312211, 0.7683637 ],\n",
       "       [0.20080228, 0.97469206, 0.89009335, 0.94032342, 0.52407675,\n",
       "        0.56923193, 0.25859055, 0.61736996, 0.57232941, 0.02288147,\n",
       "        0.54801333, 0.14557932, 0.2025643 ],\n",
       "       [0.87604974, 0.02167482, 0.23560067, 0.27979767, 0.53813289,\n",
       "        0.23403945, 0.12088969, 0.62780684, 0.60193561, 0.13387804,\n",
       "        0.21574466, 0.15453657, 0.57757275],\n",
       "       [0.15499915, 0.17526018, 0.67410575, 0.84342803, 0.37061013,\n",
       "        0.29879285, 0.82187208, 0.56418199, 0.45521848, 0.18457669,\n",
       "        0.49606493, 0.62043656, 0.77782851],\n",
       "       [0.43083369, 0.22766059, 0.5838843 , 0.01657088, 0.53557676,\n",
       "        0.50719762, 0.94239787, 0.8017834 , 0.52434405, 0.0204568 ,\n",
       "        0.48436266, 0.16797961, 0.28953948],\n",
       "       [0.40459706, 0.32242372, 0.18058583, 0.24694043, 0.18957045,\n",
       "        0.82385641, 0.23505421, 0.92902876, 0.0867448 , 0.90231085,\n",
       "        0.24445682, 0.63808512, 0.99302955],\n",
       "       [0.73133373, 0.00939495, 0.88290685, 0.87362961, 0.78013825,\n",
       "        0.40363367, 0.93139451, 0.39152675, 0.20994245, 0.91001448,\n",
       "        0.96687781, 0.5453203 , 0.39061064],\n",
       "       [0.58911679, 0.77710363, 0.08353316, 0.24573085, 0.55168225,\n",
       "        0.14441825, 0.84681156, 0.10996802, 0.61828728, 0.4981048 ,\n",
       "        0.58302929, 0.53641614, 0.57782292],\n",
       "       [0.56173255, 0.02338006, 0.59249977, 0.37947499, 0.27207012,\n",
       "        0.6372733 , 0.06972997, 0.36061342, 0.99742935, 0.96851923,\n",
       "        0.43189733, 0.33426752, 0.1383893 ],\n",
       "       [0.55151489, 0.03363755, 0.17307403, 0.3265922 , 0.59174653,\n",
       "        0.255502  , 0.54402579, 0.581536  , 0.57530536, 0.33247746,\n",
       "        0.44558283, 0.30531742, 0.51259903],\n",
       "       [0.65702422, 0.33013918, 0.81035775, 0.60952079, 0.99371713,\n",
       "        0.36654631, 0.96882816, 0.50940157, 0.3190602 , 0.37536809,\n",
       "        0.77858908, 0.82064303, 0.92044473],\n",
       "       [0.24562801, 0.70915209, 0.790723  , 0.81801974, 0.51895345,\n",
       "        0.84493221, 0.66100467, 0.11436183, 0.5524174 , 0.9420455 ,\n",
       "        0.1191961 , 0.32567435, 0.61681913],\n",
       "       [0.52658294, 0.32475655, 0.30825673, 0.15736414, 0.60168148,\n",
       "        0.04253547, 0.4196466 , 0.12793685, 0.4906324 , 0.79102482,\n",
       "        0.21385549, 0.5752668 , 0.42273513],\n",
       "       [0.61002039, 0.8365251 , 0.98353658, 0.77279991, 0.6718863 ,\n",
       "        0.12588493, 0.720524  , 0.41104171, 0.56575614, 0.3945224 ,\n",
       "        0.14096159, 0.9463679 , 0.5190784 ],\n",
       "       [0.64557449, 0.85179628, 0.99777584, 0.96357174, 0.12125587,\n",
       "        0.48101299, 0.69345495, 0.74145735, 0.10651945, 0.58630086,\n",
       "        0.49815598, 0.65915066, 0.42039032],\n",
       "       [0.81180091, 0.60394174, 0.43735011, 0.64599898, 0.67261008,\n",
       "        0.70852912, 0.49469938, 0.51614805, 0.49505333, 0.07466154,\n",
       "        0.79718693, 0.44470478, 0.84755307],\n",
       "       [0.60245884, 0.38615231, 0.20241844, 0.12421286, 0.20058293,\n",
       "        0.42445084, 0.43080588, 0.5437022 , 0.49599965, 0.93927559,\n",
       "        0.42548972, 0.34656169, 0.10900377],\n",
       "       [0.59079064, 0.82679597, 0.79546608, 0.63354957, 0.94405186,\n",
       "        0.15792239, 0.80381674, 0.30452171, 0.27263584, 0.49167135,\n",
       "        0.61848268, 0.63475785, 0.02642119],\n",
       "       [0.12488481, 0.73764438, 0.55379191, 0.73191744, 0.5239154 ,\n",
       "        0.17239707, 0.61975847, 0.60374441, 0.6897854 , 0.38917805,\n",
       "        0.94677869, 0.56585613, 0.34692715]])"
      ]
     },
     "execution_count": 12,
     "metadata": {},
     "output_type": "execute_result"
    }
   ],
   "source": [
    "#numpy.random.random((shape)). This creates an m by n matrix with values between 0 and 1.\n",
    "np.random.random((20,13))"
   ]
  },
  {
   "cell_type": "code",
   "execution_count": 13,
   "id": "632f1d4d",
   "metadata": {},
   "outputs": [
    {
     "data": {
      "text/plain": [
       "array([[4, 9, 6, 3, 3],\n",
       "       [7, 7, 9, 7, 8],\n",
       "       [9, 8, 7, 6, 4]])"
      ]
     },
     "execution_count": 13,
     "metadata": {},
     "output_type": "execute_result"
    }
   ],
   "source": [
    "#numpy.random.seed(value). This makes sure that the random numbers in the cell that is being run are the same.\n",
    "np.random.seed(7) \n",
    "np.random.randint(0,10, size=(3,5))"
   ]
  },
  {
   "cell_type": "markdown",
   "id": "902a5ccf",
   "metadata": {},
   "source": [
    "## Viewing arrays and matrices"
   ]
  },
  {
   "cell_type": "markdown",
   "id": "6ac6e7f3",
   "metadata": {},
   "source": [
    "## Arithmetic"
   ]
  },
  {
   "cell_type": "code",
   "execution_count": 14,
   "id": "8e50a337",
   "metadata": {},
   "outputs": [
    {
     "data": {
      "text/plain": [
       "(array([2., 3., 4.]), array([1., 2., 3.]))"
      ]
     },
     "execution_count": 14,
     "metadata": {},
     "output_type": "execute_result"
    }
   ],
   "source": [
    "ones=np.ones(3)\n",
    "w=a1+ones\n",
    "x=a1*ones\n",
    "w,x"
   ]
  },
  {
   "cell_type": "code",
   "execution_count": 15,
   "id": "d605add9",
   "metadata": {},
   "outputs": [
    {
     "data": {
      "text/plain": [
       "(array([[1],\n",
       "        [4],\n",
       "        [4]]),\n",
       " array([[0.38094113, 0.06593635, 0.2881456 ],\n",
       "        [0.90959353, 0.21338535, 0.45212396],\n",
       "        [0.93120602, 0.02489923, 0.60054892]]))"
      ]
     },
     "execution_count": 15,
     "metadata": {},
     "output_type": "execute_result"
    }
   ],
   "source": [
    "#Numpy broadcasting. This refers to the rules used by numpy in manipulating arrays. This is the general matrix arithmetic manipulation rules. \n",
    "#please find more on the numpy documentation site.\n",
    "a4=np.random.randint(1,5,size=(3,1))\n",
    "a5=np.random.random((3,3))\n",
    "a4,a5"
   ]
  },
  {
   "cell_type": "code",
   "execution_count": 16,
   "id": "6a808d49",
   "metadata": {},
   "outputs": [
    {
     "data": {
      "text/plain": [
       "array([[0.38094113, 0.06593635, 0.2881456 ],\n",
       "       [3.63837411, 0.85354141, 1.80849585],\n",
       "       [3.72482408, 0.09959691, 2.40219567]])"
      ]
     },
     "execution_count": 16,
     "metadata": {},
     "output_type": "execute_result"
    }
   ],
   "source": [
    "#Now multiplying the smaller array by the larger one. Numpy can only multiply the arrays when their shapes are equal or when one of them is equal to one.\n",
    "a4*a5"
   ]
  },
  {
   "cell_type": "code",
   "execution_count": 17,
   "id": "415d169a",
   "metadata": {},
   "outputs": [
    {
     "data": {
      "text/plain": [
       "array([[0.38094113, 0.06593635, 0.2881456 ],\n",
       "       [3.63837411, 0.85354141, 1.80849585],\n",
       "       [3.72482408, 0.09959691, 2.40219567]])"
      ]
     },
     "execution_count": 17,
     "metadata": {},
     "output_type": "execute_result"
    }
   ],
   "source": [
    "#Now lets try the other way around\n",
    "a5*a4"
   ]
  },
  {
   "cell_type": "code",
   "execution_count": 18,
   "id": "d40c9b21",
   "metadata": {},
   "outputs": [
    {
     "ename": "ValueError",
     "evalue": "operands could not be broadcast together with shapes (3,2) (4,5) ",
     "output_type": "error",
     "traceback": [
      "\u001b[0;31m---------------------------------------------------------------------------\u001b[0m",
      "\u001b[0;31mValueError\u001b[0m                                Traceback (most recent call last)",
      "Cell \u001b[0;32mIn[18], line 4\u001b[0m\n\u001b[1;32m      2\u001b[0m a6\u001b[38;5;241m=\u001b[39mnp\u001b[38;5;241m.\u001b[39mrandom\u001b[38;5;241m.\u001b[39mrandint(\u001b[38;5;241m2\u001b[39m,\u001b[38;5;241m12\u001b[39m,size\u001b[38;5;241m=\u001b[39m(\u001b[38;5;241m3\u001b[39m,\u001b[38;5;241m2\u001b[39m))\n\u001b[1;32m      3\u001b[0m a7\u001b[38;5;241m=\u001b[39mnp\u001b[38;5;241m.\u001b[39mrandom\u001b[38;5;241m.\u001b[39mrandom((\u001b[38;5;241m4\u001b[39m,\u001b[38;5;241m5\u001b[39m))\n\u001b[0;32m----> 4\u001b[0m a6\u001b[38;5;241m*\u001b[39ma7\n",
      "\u001b[0;31mValueError\u001b[0m: operands could not be broadcast together with shapes (3,2) (4,5) "
     ]
    }
   ],
   "source": [
    "#You can run this cell to see what I'm talking about. \n",
    "a6=np.random.randint(2,12,size=(3,2))\n",
    "a7=np.random.random((4,5))\n",
    "a6*a7\n",
    "#We would have to reshape one of the matrices. We'll talk about this in the future."
   ]
  },
  {
   "cell_type": "code",
   "execution_count": 19,
   "id": "44b74d9a",
   "metadata": {},
   "outputs": [
    {
     "data": {
      "text/plain": [
       "array([[  2.62507751,  15.166142  ,   3.47046772],\n",
       "       [  4.39756867,  18.74542902,   8.84713118],\n",
       "       [  4.29550488, 160.6475539 ,   6.66057316]])"
      ]
     },
     "execution_count": 19,
     "metadata": {},
     "output_type": "execute_result"
    }
   ],
   "source": [
    "#Division\n",
    "a4/a5"
   ]
  },
  {
   "cell_type": "code",
   "execution_count": 20,
   "id": "40ed90af",
   "metadata": {},
   "outputs": [
    {
     "data": {
      "text/plain": [
       "array([[  2.,  15.,   3.],\n",
       "       [  4.,  18.,   8.],\n",
       "       [  4., 160.,   6.]])"
      ]
     },
     "execution_count": 20,
     "metadata": {},
     "output_type": "execute_result"
    }
   ],
   "source": [
    "# floor division (//) removes decimals (rounds the numbers)\n",
    "a4//a5"
   ]
  },
  {
   "cell_type": "code",
   "execution_count": 21,
   "id": "faf38332",
   "metadata": {},
   "outputs": [
    {
     "data": {
      "text/plain": [
       "array([[ 1],\n",
       "       [64],\n",
       "       [64]])"
      ]
     },
     "execution_count": 21,
     "metadata": {},
     "output_type": "execute_result"
    }
   ],
   "source": [
    "#exponents. To raise an array to a certain number, use '**'\n",
    "a4**3"
   ]
  },
  {
   "cell_type": "code",
   "execution_count": 22,
   "id": "6771b5af",
   "metadata": {},
   "outputs": [
    {
     "data": {
      "text/plain": [
       "array([[ 1],\n",
       "       [16],\n",
       "       [16]])"
      ]
     },
     "execution_count": 22,
     "metadata": {},
     "output_type": "execute_result"
    }
   ],
   "source": [
    "#You conld also use numpy.square() to raise an array to 2.\n",
    "np.square(a4)"
   ]
  },
  {
   "cell_type": "code",
   "execution_count": 23,
   "id": "9d3a7e44",
   "metadata": {},
   "outputs": [
    {
     "data": {
      "text/plain": [
       "array([[0.23811773, 0.0109548 , 0.1355632 ],\n",
       "       [0.36162589, 0.15906364, 0.38300831],\n",
       "       [0.27517592, 0.01612359, 0.3967065 ]])"
      ]
     },
     "execution_count": 23,
     "metadata": {},
     "output_type": "execute_result"
    }
   ],
   "source": [
    "# modulo '%'. This shows the remainder value when two numbers divide.\n",
    "a4%a5"
   ]
  },
  {
   "cell_type": "code",
   "execution_count": 24,
   "id": "dd19cce0",
   "metadata": {},
   "outputs": [
    {
     "data": {
      "text/plain": [
       "array([[0.23811773, 0.0109548 , 0.1355632 ],\n",
       "       [0.36162589, 0.15906364, 0.38300831],\n",
       "       [0.27517592, 0.01612359, 0.3967065 ]])"
      ]
     },
     "execution_count": 24,
     "metadata": {},
     "output_type": "execute_result"
    }
   ],
   "source": [
    "#You could also use numpy.mod()\n",
    "np.mod(a4,a5)"
   ]
  },
  {
   "cell_type": "code",
   "execution_count": 25,
   "id": "aa6a103a",
   "metadata": {},
   "outputs": [
    {
     "data": {
      "text/plain": [
       "array([[0.        ],\n",
       "       [1.38629436],\n",
       "       [1.38629436]])"
      ]
     },
     "execution_count": 25,
     "metadata": {},
     "output_type": "execute_result"
    }
   ],
   "source": [
    "#numpy.log. computes the natural logarithm of an array\n",
    "np.log(a4)"
   ]
  },
  {
   "cell_type": "code",
   "execution_count": 26,
   "id": "548843da",
   "metadata": {},
   "outputs": [
    {
     "data": {
      "text/plain": [
       "array([[0.],\n",
       "       [2.],\n",
       "       [2.]])"
      ]
     },
     "execution_count": 26,
     "metadata": {},
     "output_type": "execute_result"
    }
   ],
   "source": [
    "np.log2(a4)"
   ]
  },
  {
   "cell_type": "code",
   "execution_count": 27,
   "id": "d580a65c",
   "metadata": {},
   "outputs": [
    {
     "data": {
      "text/plain": [
       "54.598150033144236"
      ]
     },
     "execution_count": 27,
     "metadata": {},
     "output_type": "execute_result"
    }
   ],
   "source": [
    "#This calculates the exponential of an array or number.\n",
    "np.exp(4)"
   ]
  },
  {
   "cell_type": "markdown",
   "id": "77d45f5e",
   "metadata": {},
   "source": [
    "## Aggregation\n",
    "Aggregation is about performing the same operations on a number of things"
   ]
  },
  {
   "cell_type": "code",
   "execution_count": 28,
   "id": "c3ae78dc",
   "metadata": {},
   "outputs": [],
   "source": [
    "# np.mean()\n",
    "# np.max()\n",
    "# np.std()\n",
    "# np.var()\n",
    "# np.sum"
   ]
  },
  {
   "cell_type": "markdown",
   "id": "62fba11f",
   "metadata": {},
   "source": [
    "## Standard deviation and variance\n",
    "    These are measures of the spread of data. Variance is the measure of the average degree to which each number is different to the mean.The standard deviation is a measure of how spread out a group of numers is from the mean. The standard deviation is the square root of the variance."
   ]
  },
  {
   "cell_type": "code",
   "execution_count": 29,
   "id": "e4b6c564",
   "metadata": {},
   "outputs": [],
   "source": [
    "#Variance\n",
    "var=np.var(a4)"
   ]
  },
  {
   "cell_type": "code",
   "execution_count": 30,
   "id": "e547177e",
   "metadata": {},
   "outputs": [
    {
     "data": {
      "text/plain": [
       "1.4142135623730951"
      ]
     },
     "execution_count": 30,
     "metadata": {},
     "output_type": "execute_result"
    }
   ],
   "source": [
    "#Standard deviation\n",
    "np.std(a4)"
   ]
  },
  {
   "cell_type": "code",
   "execution_count": 31,
   "id": "38ccc905",
   "metadata": {},
   "outputs": [
    {
     "data": {
      "text/plain": [
       "1.4142135623730951"
      ]
     },
     "execution_count": 31,
     "metadata": {},
     "output_type": "execute_result"
    }
   ],
   "source": [
    "#This code shows that the standard deviation=the square root of variance\n",
    "np.sqrt(var)"
   ]
  },
  {
   "cell_type": "markdown",
   "id": "f653fb49",
   "metadata": {},
   "source": [
    "## Reshape & Transpose"
   ]
  },
  {
   "cell_type": "code",
   "execution_count": 32,
   "id": "024555e7",
   "metadata": {},
   "outputs": [
    {
     "data": {
      "text/plain": [
       "array([[[1]],\n",
       "\n",
       "       [[4]],\n",
       "\n",
       "       [[4]]])"
      ]
     },
     "execution_count": 32,
     "metadata": {},
     "output_type": "execute_result"
    }
   ],
   "source": [
    "#array.reshape(): this returns an array with a new shape \n",
    "a4.reshape(3,1,1)"
   ]
  },
  {
   "cell_type": "code",
   "execution_count": 33,
   "id": "463a3263",
   "metadata": {},
   "outputs": [
    {
     "data": {
      "text/plain": [
       "array([[1, 4, 4]])"
      ]
     },
     "execution_count": 33,
     "metadata": {},
     "output_type": "execute_result"
    }
   ],
   "source": [
    "#Transpose: This switches the rows and columns of an array. So it just turns a 3 by 2 matrix into a 2 by 3 matrix for instance.\n",
    "a4.T"
   ]
  },
  {
   "cell_type": "markdown",
   "id": "b80b8cd2",
   "metadata": {},
   "source": [
    "## Dot product"
   ]
  },
  {
   "cell_type": "code",
   "execution_count": 34,
   "id": "89b595af",
   "metadata": {},
   "outputs": [],
   "source": [
    "#array.dot: This is used to compute the dot product of 2 arrays\n",
    "mat1=np.random.randint(10, size=(5,3))\n",
    "mat2=np.random.randint(10, size=(5,3))\n",
    "#np.multiply just multiplies elementwise"
   ]
  },
  {
   "cell_type": "code",
   "execution_count": 35,
   "id": "c808b062-d38e-4695-aff3-206746f3abd3",
   "metadata": {
    "jupyter": {
     "source_hidden": true
    },
    "tags": []
   },
   "outputs": [
    {
     "data": {
      "image/png": "[encoded data removed]",
      "text/plain": [
       "<Figure size 640x480 with 1 Axes>"
      ]
     },
     "metadata": {},
     "output_type": "display_data"
    }
   ],
   "source": [
    "from matplotlib import pyplot as plt\n",
    "from matplotlib.image import imread\n",
    "\n",
    "# Load and display the image\n",
    "img = imread('/Users/elman/Documents/GitHub/sample_project/dotpro.png')\n",
    "plt.imshow(img)\n",
    "plt.axis('off')  # Turn off axis labels and ticks\n",
    "plt.show()"
   ]
  },
  {
   "cell_type": "code",
   "execution_count": 36,
   "id": "d73fefb8",
   "metadata": {},
   "outputs": [
    {
     "data": {
      "text/plain": [
       "array([[3, 5, 2, 2, 3],\n",
       "       [1, 9, 3, 5, 0],\n",
       "       [9, 1, 2, 7, 9]])"
      ]
     },
     "execution_count": 36,
     "metadata": {},
     "output_type": "execute_result"
    }
   ],
   "source": [
    "#In dot product, the number of columns in the first matrix must be equal to the number of the rows in the second matrix.\n",
    "#so for the dot product of mat1 and mat2 to work, we'll have to transpose one of them.\n",
    "mat3=mat1.T\n",
    "mat3"
   ]
  },
  {
   "cell_type": "code",
   "execution_count": 37,
   "id": "bffcf3c8",
   "metadata": {},
   "outputs": [
    {
     "data": {
      "text/plain": [
       "array([[ 83,  68,  56],\n",
       "       [101,  64,  57],\n",
       "       [170, 132, 151]])"
      ]
     },
     "execution_count": 37,
     "metadata": {},
     "output_type": "execute_result"
    }
   ],
   "source": [
    "np.dot(mat3,mat2)"
   ]
  },
  {
   "cell_type": "markdown",
   "id": "7ce80062",
   "metadata": {},
   "source": [
    "## Dot product example"
   ]
  },
  {
   "cell_type": "code",
   "execution_count": 38,
   "id": "3afa3573",
   "metadata": {},
   "outputs": [
    {
     "data": {
      "text/plain": [
       "array([[12, 15,  0],\n",
       "       [ 3,  3,  7],\n",
       "       [ 9, 19, 18],\n",
       "       [ 4,  6, 12],\n",
       "       [ 1,  6,  7]])"
      ]
     },
     "execution_count": 38,
     "metadata": {},
     "output_type": "execute_result"
    }
   ],
   "source": [
    "np.random.seed(0)\n",
    "#number of jars sold\n",
    "sales_amounts=np.random.randint(20,size=(5,3))\n",
    "sales_amounts"
   ]
  },
  {
   "cell_type": "code",
   "execution_count": 39,
   "id": "1705c92d",
   "metadata": {},
   "outputs": [
    {
     "data": {
      "text/html": [
       "<div>\n",
       "<style scoped>\n",
       "    .dataframe tbody tr th:only-of-type {\n",
       "        vertical-align: middle;\n",
       "    }\n",
       "\n",
       "    .dataframe tbody tr th {\n",
       "        vertical-align: top;\n",
       "    }\n",
       "\n",
       "    .dataframe thead th {\n",
       "        text-align: right;\n",
       "    }\n",
       "</style>\n",
       "<table border=\"1\" class=\"dataframe\">\n",
       "  <thead>\n",
       "    <tr style=\"text-align: right;\">\n",
       "      <th></th>\n",
       "      <th>Almond butter</th>\n",
       "      <th>Peanut butter</th>\n",
       "      <th>Cashew butter</th>\n",
       "    </tr>\n",
       "  </thead>\n",
       "  <tbody>\n",
       "    <tr>\n",
       "      <th>Mon</th>\n",
       "      <td>12</td>\n",
       "      <td>15</td>\n",
       "      <td>0</td>\n",
       "    </tr>\n",
       "    <tr>\n",
       "      <th>Tues</th>\n",
       "      <td>3</td>\n",
       "      <td>3</td>\n",
       "      <td>7</td>\n",
       "    </tr>\n",
       "    <tr>\n",
       "      <th>Wed</th>\n",
       "      <td>9</td>\n",
       "      <td>19</td>\n",
       "      <td>18</td>\n",
       "    </tr>\n",
       "    <tr>\n",
       "      <th>Thurs</th>\n",
       "      <td>4</td>\n",
       "      <td>6</td>\n",
       "      <td>12</td>\n",
       "    </tr>\n",
       "    <tr>\n",
       "      <th>Fri</th>\n",
       "      <td>1</td>\n",
       "      <td>6</td>\n",
       "      <td>7</td>\n",
       "    </tr>\n",
       "  </tbody>\n",
       "</table>\n",
       "</div>"
      ],
      "text/plain": [
       "       Almond butter  Peanut butter  Cashew butter\n",
       "Mon               12             15              0\n",
       "Tues               3              3              7\n",
       "Wed                9             19             18\n",
       "Thurs              4              6             12\n",
       "Fri                1              6              7"
      ]
     },
     "execution_count": 39,
     "metadata": {},
     "output_type": "execute_result"
    }
   ],
   "source": [
    "#create a weekly sales dataframe\n",
    "import pandas as pd\n",
    "weekly_sales=pd.DataFrame(sales_amounts,\n",
    "                         index=[\"Mon\",\"Tues\",\"Wed\",\"Thurs\",\"Fri\"],\n",
    "                         columns=[\"Almond butter\",\"Peanut butter\",\"Cashew butter\"])\n",
    "weekly_sales"
   ]
  },
  {
   "cell_type": "code",
   "execution_count": 40,
   "id": "dd00df51",
   "metadata": {},
   "outputs": [],
   "source": [
    "#create prices array\n",
    "prices=np.array([10,8,12])"
   ]
  },
  {
   "cell_type": "code",
   "execution_count": 41,
   "id": "9e5408e1",
   "metadata": {},
   "outputs": [
    {
     "data": {
      "text/html": [
       "<div>\n",
       "<style scoped>\n",
       "    .dataframe tbody tr th:only-of-type {\n",
       "        vertical-align: middle;\n",
       "    }\n",
       "\n",
       "    .dataframe tbody tr th {\n",
       "        vertical-align: top;\n",
       "    }\n",
       "\n",
       "    .dataframe thead th {\n",
       "        text-align: right;\n",
       "    }\n",
       "</style>\n",
       "<table border=\"1\" class=\"dataframe\">\n",
       "  <thead>\n",
       "    <tr style=\"text-align: right;\">\n",
       "      <th></th>\n",
       "      <th>Almond butter</th>\n",
       "      <th>Peanut butter</th>\n",
       "      <th>Cashew butter</th>\n",
       "    </tr>\n",
       "  </thead>\n",
       "  <tbody>\n",
       "    <tr>\n",
       "      <th>Price</th>\n",
       "      <td>10</td>\n",
       "      <td>8</td>\n",
       "      <td>12</td>\n",
       "    </tr>\n",
       "  </tbody>\n",
       "</table>\n",
       "</div>"
      ],
      "text/plain": [
       "       Almond butter  Peanut butter  Cashew butter\n",
       "Price             10              8             12"
      ]
     },
     "execution_count": 41,
     "metadata": {},
     "output_type": "execute_result"
    }
   ],
   "source": [
    "butter_prices=pd.DataFrame(prices.reshape(1,3),\n",
    "                           index=[\"Price\"],\n",
    "                           columns=[\"Almond butter\",\"Peanut butter\",\"Cashew butter\"])\n",
    "butter_prices"
   ]
  },
  {
   "cell_type": "code",
   "execution_count": 42,
   "id": "7f148944",
   "metadata": {},
   "outputs": [
    {
     "data": {
      "text/plain": [
       "array([240, 138, 458, 232, 142])"
      ]
     },
     "execution_count": 42,
     "metadata": {},
     "output_type": "execute_result"
    }
   ],
   "source": [
    "total_sales=prices.dot(sales_amounts.T)\n",
    "total_sales"
   ]
  },
  {
   "cell_type": "code",
   "execution_count": 43,
   "id": "37b27675",
   "metadata": {},
   "outputs": [
    {
     "data": {
      "text/html": [
       "<div>\n",
       "<style scoped>\n",
       "    .dataframe tbody tr th:only-of-type {\n",
       "        vertical-align: middle;\n",
       "    }\n",
       "\n",
       "    .dataframe tbody tr th {\n",
       "        vertical-align: top;\n",
       "    }\n",
       "\n",
       "    .dataframe thead th {\n",
       "        text-align: right;\n",
       "    }\n",
       "</style>\n",
       "<table border=\"1\" class=\"dataframe\">\n",
       "  <thead>\n",
       "    <tr style=\"text-align: right;\">\n",
       "      <th></th>\n",
       "      <th>Mon</th>\n",
       "      <th>Tues</th>\n",
       "      <th>Wed</th>\n",
       "      <th>Thurs</th>\n",
       "      <th>Fri</th>\n",
       "    </tr>\n",
       "  </thead>\n",
       "  <tbody>\n",
       "    <tr>\n",
       "      <th>Price</th>\n",
       "      <td>240</td>\n",
       "      <td>138</td>\n",
       "      <td>458</td>\n",
       "      <td>232</td>\n",
       "      <td>142</td>\n",
       "    </tr>\n",
       "  </tbody>\n",
       "</table>\n",
       "</div>"
      ],
      "text/plain": [
       "       Mon  Tues  Wed  Thurs  Fri\n",
       "Price  240   138  458    232  142"
      ]
     },
     "execution_count": 43,
     "metadata": {},
     "output_type": "execute_result"
    }
   ],
   "source": [
    "daily_sales=pd.DataFrame(total_sales.reshape(1,5),\n",
    "                        index=[\"Price\"],\n",
    "                        columns=[\"Mon\",\"Tues\",\"Wed\",\"Thurs\",\"Fri\"])\n",
    "daily_sales"
   ]
  },
  {
   "cell_type": "code",
   "execution_count": 44,
   "id": "586b94ff",
   "metadata": {},
   "outputs": [
    {
     "data": {
      "text/plain": [
       "((1, 5), (5, 3))"
      ]
     },
     "execution_count": 44,
     "metadata": {},
     "output_type": "execute_result"
    }
   ],
   "source": [
    "#Now to combine the dail_sales DataFrame to the weekly_sales we'll have to make sure that they have the same number of rows.\n",
    "daily_sales.shape,weekly_sales.shape"
   ]
  },
  {
   "cell_type": "code",
   "execution_count": 45,
   "id": "a77a6e69",
   "metadata": {},
   "outputs": [
    {
     "data": {
      "text/html": [
       "<div>\n",
       "<style scoped>\n",
       "    .dataframe tbody tr th:only-of-type {\n",
       "        vertical-align: middle;\n",
       "    }\n",
       "\n",
       "    .dataframe tbody tr th {\n",
       "        vertical-align: top;\n",
       "    }\n",
       "\n",
       "    .dataframe thead th {\n",
       "        text-align: right;\n",
       "    }\n",
       "</style>\n",
       "<table border=\"1\" class=\"dataframe\">\n",
       "  <thead>\n",
       "    <tr style=\"text-align: right;\">\n",
       "      <th></th>\n",
       "      <th>Price</th>\n",
       "    </tr>\n",
       "  </thead>\n",
       "  <tbody>\n",
       "    <tr>\n",
       "      <th>Mon</th>\n",
       "      <td>240</td>\n",
       "    </tr>\n",
       "    <tr>\n",
       "      <th>Tues</th>\n",
       "      <td>138</td>\n",
       "    </tr>\n",
       "    <tr>\n",
       "      <th>Wed</th>\n",
       "      <td>458</td>\n",
       "    </tr>\n",
       "    <tr>\n",
       "      <th>Thurs</th>\n",
       "      <td>232</td>\n",
       "    </tr>\n",
       "    <tr>\n",
       "      <th>Fri</th>\n",
       "      <td>142</td>\n",
       "    </tr>\n",
       "  </tbody>\n",
       "</table>\n",
       "</div>"
      ],
      "text/plain": [
       "       Price\n",
       "Mon      240\n",
       "Tues     138\n",
       "Wed      458\n",
       "Thurs    232\n",
       "Fri      142"
      ]
     },
     "execution_count": 45,
     "metadata": {},
     "output_type": "execute_result"
    }
   ],
   "source": [
    "Daily_sales=daily_sales.T\n",
    "Daily_sales"
   ]
  },
  {
   "cell_type": "code",
   "execution_count": 46,
   "id": "c9119b3b",
   "metadata": {},
   "outputs": [
    {
     "data": {
      "text/html": [
       "<div>\n",
       "<style scoped>\n",
       "    .dataframe tbody tr th:only-of-type {\n",
       "        vertical-align: middle;\n",
       "    }\n",
       "\n",
       "    .dataframe tbody tr th {\n",
       "        vertical-align: top;\n",
       "    }\n",
       "\n",
       "    .dataframe thead th {\n",
       "        text-align: right;\n",
       "    }\n",
       "</style>\n",
       "<table border=\"1\" class=\"dataframe\">\n",
       "  <thead>\n",
       "    <tr style=\"text-align: right;\">\n",
       "      <th></th>\n",
       "      <th>Almond butter</th>\n",
       "      <th>Peanut butter</th>\n",
       "      <th>Cashew butter</th>\n",
       "      <th>Total($)</th>\n",
       "    </tr>\n",
       "  </thead>\n",
       "  <tbody>\n",
       "    <tr>\n",
       "      <th>Mon</th>\n",
       "      <td>12</td>\n",
       "      <td>15</td>\n",
       "      <td>0</td>\n",
       "      <td>240</td>\n",
       "    </tr>\n",
       "    <tr>\n",
       "      <th>Tues</th>\n",
       "      <td>3</td>\n",
       "      <td>3</td>\n",
       "      <td>7</td>\n",
       "      <td>138</td>\n",
       "    </tr>\n",
       "    <tr>\n",
       "      <th>Wed</th>\n",
       "      <td>9</td>\n",
       "      <td>19</td>\n",
       "      <td>18</td>\n",
       "      <td>458</td>\n",
       "    </tr>\n",
       "    <tr>\n",
       "      <th>Thurs</th>\n",
       "      <td>4</td>\n",
       "      <td>6</td>\n",
       "      <td>12</td>\n",
       "      <td>232</td>\n",
       "    </tr>\n",
       "    <tr>\n",
       "      <th>Fri</th>\n",
       "      <td>1</td>\n",
       "      <td>6</td>\n",
       "      <td>7</td>\n",
       "      <td>142</td>\n",
       "    </tr>\n",
       "  </tbody>\n",
       "</table>\n",
       "</div>"
      ],
      "text/plain": [
       "       Almond butter  Peanut butter  Cashew butter  Total($)\n",
       "Mon               12             15              0       240\n",
       "Tues               3              3              7       138\n",
       "Wed                9             19             18       458\n",
       "Thurs              4              6             12       232\n",
       "Fri                1              6              7       142"
      ]
     },
     "execution_count": 46,
     "metadata": {},
     "output_type": "execute_result"
    }
   ],
   "source": [
    "weekly_sales[\"Total($)\"]=Daily_sales\n",
    "weekly_sales"
   ]
  },
  {
   "cell_type": "markdown",
   "id": "32bb7210",
   "metadata": {},
   "source": [
    "## Comparison operators"
   ]
  },
  {
   "cell_type": "code",
   "execution_count": 47,
   "id": "dfaf0297",
   "metadata": {},
   "outputs": [
    {
     "data": {
      "text/plain": [
       "array([[ True,  True,  True],\n",
       "       [ True,  True,  True],\n",
       "       [ True,  True,  True]])"
      ]
     },
     "execution_count": 47,
     "metadata": {},
     "output_type": "execute_result"
    }
   ],
   "source": [
    "a4>a5"
   ]
  },
  {
   "cell_type": "code",
   "execution_count": 48,
   "id": "96a49ed5",
   "metadata": {},
   "outputs": [
    {
     "data": {
      "text/plain": [
       "array([[False, False, False],\n",
       "       [False, False, False],\n",
       "       [False, False, False]])"
      ]
     },
     "execution_count": 48,
     "metadata": {},
     "output_type": "execute_result"
    }
   ],
   "source": [
    "a4<a5"
   ]
  },
  {
   "cell_type": "code",
   "execution_count": 49,
   "id": "4715241f",
   "metadata": {},
   "outputs": [
    {
     "data": {
      "text/plain": [
       "array([[False, False, False],\n",
       "       [False, False, False],\n",
       "       [False, False, False]])"
      ]
     },
     "execution_count": 49,
     "metadata": {},
     "output_type": "execute_result"
    }
   ],
   "source": [
    "a4==a5"
   ]
  },
  {
   "cell_type": "markdown",
   "id": "b6f356f7",
   "metadata": {},
   "source": [
    "# Sorting arrays"
   ]
  },
  {
   "cell_type": "code",
   "execution_count": 50,
   "id": "0640b5b4",
   "metadata": {},
   "outputs": [
    {
     "data": {
      "text/plain": [
       "array([[ 0,  3,  3, 12, 15],\n",
       "       [ 4,  7,  9, 18, 19],\n",
       "       [ 1,  6,  6,  7, 12]])"
      ]
     },
     "execution_count": 50,
     "metadata": {},
     "output_type": "execute_result"
    }
   ],
   "source": [
    "#np.sort():performs an element-wise sorting of arrays from smallest to largest value\n",
    "np.random.seed(0)\n",
    "random_array=np.random.randint(20,size=(3,5))\n",
    "np.sort(random_array)"
   ]
  },
  {
   "cell_type": "code",
   "execution_count": 51,
   "id": "62339781",
   "metadata": {},
   "outputs": [
    {
     "data": {
      "text/plain": [
       "array([[12, 15,  0,  3,  3],\n",
       "       [ 7,  9, 19, 18,  4],\n",
       "       [ 6, 12,  1,  6,  7]])"
      ]
     },
     "execution_count": 51,
     "metadata": {},
     "output_type": "execute_result"
    }
   ],
   "source": [
    "random_array"
   ]
  },
  {
   "cell_type": "code",
   "execution_count": 52,
   "id": "5f6c5421",
   "metadata": {},
   "outputs": [
    {
     "data": {
      "text/plain": [
       "array([[2, 3, 4, 0, 1],\n",
       "       [4, 0, 1, 3, 2],\n",
       "       [2, 0, 3, 4, 1]])"
      ]
     },
     "execution_count": 52,
     "metadata": {},
     "output_type": "execute_result"
    }
   ],
   "source": [
    "#np.argsort() sorts the indexes from lowest to highest\n",
    "np.argsort(random_array)"
   ]
  },
  {
   "cell_type": "code",
   "execution_count": null,
   "id": "5e3e6f26",
   "metadata": {},
   "outputs": [],
   "source": []
  }
 ],
 "metadata": {
  "kernelspec": {
   "display_name": "Python 3 (ipykernel)",
   "language": "python",
   "name": "python3"
  },
  "language_info": {
   "codemirror_mode": {
    "name": "ipython",
    "version": 3
   },
   "file_extension": ".py",
   "mimetype": "text/x-python",
   "name": "python",
   "nbconvert_exporter": "python",
   "pygments_lexer": "ipython3",
   "version": "3.11.4"
  }
 },
 "nbformat": 4,
 "nbformat_minor": 5
}
